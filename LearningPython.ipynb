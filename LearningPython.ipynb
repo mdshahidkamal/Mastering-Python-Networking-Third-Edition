{
  "nbformat": 4,
  "nbformat_minor": 0,
  "metadata": {
    "colab": {
      "provenance": [],
      "authorship_tag": "ABX9TyOqzrv37JYwLvEhf6eBX9x7",
      "include_colab_link": true
    },
    "kernelspec": {
      "name": "python3",
      "display_name": "Python 3"
    },
    "language_info": {
      "name": "python"
    }
  },
  "cells": [
    {
      "cell_type": "markdown",
      "metadata": {
        "id": "view-in-github",
        "colab_type": "text"
      },
      "source": [
        "<a href=\"https://colab.research.google.com/github/mdshahidkamal/Mastering-Python-Networking-Third-Edition/blob/master/LearningPython.ipynb\" target=\"_parent\"><img src=\"https://colab.research.google.com/assets/colab-badge.svg\" alt=\"Open In Colab\"/></a>"
      ]
    },
    {
      "cell_type": "code",
      "execution_count": null,
      "metadata": {
        "id": "K8nIOTUK1sx5"
      },
      "outputs": [],
      "source": [
        "# prompt: write a code in python to add two numbers\n",
        "\n",
        "def add_two_numbers(a, b):\n",
        "  \"\"\"Adds two numbers together.\n",
        "\n",
        "  Args:\n",
        "    a: The first number.\n",
        "    b: The second number.\n",
        "\n",
        "  Returns:\n",
        "    The sum of the two numbers.\n",
        "  \"\"\"\n",
        "  return a + b\n",
        "# Example usage\n",
        "num1 = 10\n",
        "num2 = 5\n",
        "sum_result = add_two_numbers(num1, num2)\n",
        "print(f\"The sum of {num1} and {num2} is: {sum_result}\")\n"
      ]
    },
    {
      "cell_type": "code",
      "source": [],
      "metadata": {
        "id": "IrPzoQJr1w45"
      },
      "execution_count": null,
      "outputs": []
    }
  ]
}